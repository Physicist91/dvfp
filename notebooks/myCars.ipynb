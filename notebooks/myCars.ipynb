{
 "cells": [
  {
   "cell_type": "markdown",
   "metadata": {},
   "source": [
    "# Peek into the dataset\n",
    "* https://www.kaggle.com/eduardo4jesus/stanford-cars-dataset-a-quick-look-up\n",
    "* https://www.kaggle.com/jutrera/training-a-densenet-for-the-stanford-car-dataset\n"
   ]
  },
  {
   "cell_type": "code",
   "execution_count": 4,
   "metadata": {},
   "outputs": [],
   "source": [
    "import numpy as np\n",
    "import scipy.io as sio"
   ]
  },
  {
   "cell_type": "code",
   "execution_count": 8,
   "metadata": {},
   "outputs": [],
   "source": [
    "cars_meta = sio.loadmat('devkit/cars_meta.mat')\n",
    "cars_train_annos = sio.loadmat('devkit/cars_train_annos.mat')\n",
    "cars_test_annos = sio.loadmat('devkit/cars_test_annos.mat')"
   ]
  },
  {
   "cell_type": "markdown",
   "metadata": {},
   "source": [
    "# Cool stuffs\n",
    "\n",
    "* Grabcut algorithm: https://docs.opencv.org/3.4.3/d8/d83/tutorial_py_grabcut.html\n",
    "* Fine-grained classification without part annotations: https://github.com/jkrause314/fg_without"
   ]
  },
  {
   "cell_type": "code",
   "execution_count": null,
   "metadata": {},
   "outputs": [],
   "source": []
  }
 ],
 "metadata": {
  "kernelspec": {
   "display_name": "Python 3",
   "language": "python",
   "name": "python3"
  },
  "language_info": {
   "codemirror_mode": {
    "name": "ipython",
    "version": 3
   },
   "file_extension": ".py",
   "mimetype": "text/x-python",
   "name": "python",
   "nbconvert_exporter": "python",
   "pygments_lexer": "ipython3",
   "version": "3.6.8"
  }
 },
 "nbformat": 4,
 "nbformat_minor": 2
}
