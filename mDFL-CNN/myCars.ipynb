{
 "cells": [
  {
   "cell_type": "markdown",
   "metadata": {},
   "source": [
    "# Peek into the dataset\n",
    "* https://www.kaggle.com/eduardo4jesus/stanford-cars-dataset-a-quick-look-up\n",
    "* https://www.kaggle.com/jutrera/training-a-densenet-for-the-stanford-car-dataset\n",
    "\n",
    "Make sure you:\n",
    "1. Load the dataset correctly."
   ]
  },
  {
   "cell_type": "code",
   "execution_count": 1,
   "metadata": {},
   "outputs": [],
   "source": [
    "# TODO: check against https://github.com/johntd54/stanford_car\n",
    "from dv.MyImageFolderWithPaths import *\n",
    "from utils.transform import *\n",
    "\n",
    "img_dir = '/Users/kevinsiswandi/dvfp/mDFL-CNN/dataset'\n",
    "# transformations are defined in \"dv\" module\n",
    "transform_train = get_transform_for_train()\n",
    "transform_test  = get_transform_for_test()\n",
    "transform_test_simple = get_transform_for_test_simple()\n",
    "\n",
    "train_dataset = CarsDataset(os.path.join(img_dir,'devkit/cars_train_annos.mat'),\n",
    "                        os.path.join(img_dir,'cars_train'),\n",
    "                        os.path.join(img_dir,'devkit/cars_meta.mat'),\n",
    "                        transform=transform_train\n",
    "                        )\n",
    "\n",
    "test_dataset = CarsDataset(os.path.join(img_dir,'devkit/cars_test_annos_withlabels.mat'),\n",
    "                        os.path.join(img_dir,'cars_test'),\n",
    "                        os.path.join(img_dir,'devkit/cars_meta.mat'),\n",
    "                        transform=transform_test\n",
    "                        )\n",
    "\n",
    "test_dataset_simple = CarsDataset(os.path.join(img_dir,'devkit/cars_test_annos_withlabels.mat'),\n",
    "                        os.path.join(img_dir,'cars_test'),\n",
    "                        os.path.join(img_dir,'devkit/cars_meta.mat'),\n",
    "                        transform=transform_test_simple\n",
    "                        )\n"
   ]
  },
  {
   "cell_type": "code",
   "execution_count": 2,
   "metadata": {},
   "outputs": [
    {
     "data": {
      "text/plain": [
       "196"
      ]
     },
     "execution_count": 2,
     "metadata": {},
     "output_type": "execute_result"
    }
   ],
   "source": [
    "len(train_dataset.car_names)\n"
   ]
  },
  {
   "cell_type": "code",
   "execution_count": 5,
   "metadata": {},
   "outputs": [],
   "source": [
    "lst = set()\n",
    "for i in range(train_dataset.__len__()):\n",
    "    lst.add(train_dataset.car_annotations[i][-2][0][0])"
   ]
  },
  {
   "cell_type": "code",
   "execution_count": null,
   "metadata": {},
   "outputs": [],
   "source": []
  }
 ],
 "metadata": {
  "kernelspec": {
   "display_name": "Python 3",
   "language": "python",
   "name": "python3"
  },
  "language_info": {
   "codemirror_mode": {
    "name": "ipython",
    "version": 3
   },
   "file_extension": ".py",
   "mimetype": "text/x-python",
   "name": "python",
   "nbconvert_exporter": "python",
   "pygments_lexer": "ipython3",
   "version": "3.6.8"
  }
 },
 "nbformat": 4,
 "nbformat_minor": 2
}
