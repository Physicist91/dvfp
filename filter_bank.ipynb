{
 "cells": [
  {
   "cell_type": "markdown",
   "metadata": {},
   "source": [
    "# \"Deep Vision\" architecture\n",
    "\n",
    "* Original paper https://arxiv.org/abs/1611.09932\n",
    "* Conv1 - Conv 4 is based on VGG-16 (the resulting feature map has receptive field of 92 x 92 with stride 8)\n",
    "* Asymmetric two-stream architecture: Conv 5 (G-Stream) and Conv 6 (P-Stream)\n",
    "\n",
    "![title](arch-simplified.png)"
   ]
  },
  {
   "cell_type": "code",
   "execution_count": 1,
   "metadata": {},
   "outputs": [],
   "source": [
    "import torch\n",
    "import torch.nn as  nn\n",
    "import torch.nn.functional as F\n",
    "import torchvision"
   ]
  },
  {
   "cell_type": "markdown",
   "metadata": {},
   "source": [
    "We will name the novel CNN as \"DeepVision\", to honor the course. The variable names here follow the original paper:\n",
    "1. M: number of classes\n",
    "2. k: number of discriminative patch detectors per class\n",
    "\n",
    "<img src=\"side-branch.png\" alt=\"drawing\" width=\"600\"/>"
   ]
  },
  {
   "cell_type": "code",
   "execution_count": 9,
   "metadata": {},
   "outputs": [],
   "source": [
    "class DeepVision_VGG16(nn.Module):\n",
    "    def __init__(self, k = 10, M = 200):\n",
    "        super(DeepVision_VGG16, self).__init__()\n",
    "        self.k = k\n",
    "        self.M = M\n",
    "        \n",
    "        # use VGG-16 as in the original paper\n",
    "        # suitable due to small size and stride (of conv filters and pooling kernels)\n",
    "        vgg16_features = torchvision.models.vgg16_bn(pretrained=True).features\n",
    "        conv4_3 = nn.Sequential(*list(vgg16_features.children())[:-11])\n",
    "        self.conv4_3 = conv4_3\n",
    "        \n",
    "        # G-stream\n",
    "        conv5 = nn.Sequential(*list(vgg16_features.children())[-11:])\n",
    "        self.conv5 = conv5\n",
    "        self.cls5 = nn.Sequential(\n",
    "            nn.Conv2d(512, 200, kernel_size=1),\n",
    "            nn.BatchNorm2d(200),\n",
    "            nn.ReLU(True),\n",
    "            nn.AdaptiveAvgPool2d((1,1)),\n",
    "        )\n",
    "        \n",
    "        # P-stream\n",
    "        conv6 = nn.Conv2d(512, k * M, kernel_size = 1) #(1 x 1) convolution, k*M filters are required\n",
    "        pool6 = nn.MaxPool2d((56, 56), stride = (56, 56), return_indices = True) # keep the indices for visualization purpose\n",
    "        self.conv6 = conv6\n",
    "        self.pool6 = pool6\n",
    "        self.cls6 = nn.Sequential(\n",
    "            nn.Conv2d(k * M, M, kernel_size=1),\n",
    "            nn.AdaptiveAvgPool2d((1,1)),\n",
    "        )\n",
    "        \n",
    "        # side branch: conv filter supervision\n",
    "        self.pool_crosschannel = nn.AvgPool1d(kernel_size = k, stride = k, padding = 0)\n",
    "        \n",
    "    def forward(self, x):\n",
    "        batch_size = x.size(0)\n",
    "        \n",
    "        # get feature map (output of conv4_3)\n",
    "        feature_map = self.conv4_3(x)\n",
    "        \n",
    "        # G-stream\n",
    "        out_g = self.conv5(feature_map)\n",
    "        out_g = self.cls5(out_g)\n",
    "        out_g = out_g.view(batch_size, -1)\n",
    "        \n",
    "        # P-stream\n",
    "        out_p = self.conv6(feature_map)\n",
    "        out_p, indices = self.pool6(out_p)\n",
    "        temp_p = out_p\n",
    "        out_p = self.cls6(out_p)\n",
    "        out_p = out_p.view(batch_size, -1)\n",
    "        \n",
    "        # side branch: conv filter supervision\n",
    "        temp_p = temp_p.view(batch_size, -1, self.k * self.M)\n",
    "        out_s = self.pool_crosschannel(temp_p)\n",
    "        out_s = out_s.view(batch_size, -1)\n",
    "        \n",
    "        return out_g, out_p, out_s, indices\n",
    "        "
   ]
  },
  {
   "cell_type": "code",
   "execution_count": 12,
   "metadata": {},
   "outputs": [
    {
     "name": "stdout",
     "output_type": "stream",
     "text": [
      "torch.Size([10, 200])\n",
      "torch.Size([10, 200])\n",
      "torch.Size([10, 200])\n"
     ]
    }
   ],
   "source": [
    "# Testing\n",
    "x = torch.randn(10, 3, 224, 224) # 10 batch, 3 channels\n",
    "net = DeepVision_VGG16()\n",
    "y = net(x)\n",
    "print(y[0].shape)\n",
    "print(y[1].shape)\n",
    "print(y[2].shape)"
   ]
  },
  {
   "cell_type": "code",
   "execution_count": null,
   "metadata": {},
   "outputs": [],
   "source": [
    "# TODO:\n",
    "# add ReLU\n",
    "# add non-random initialization"
   ]
  }
 ],
 "metadata": {
  "kernelspec": {
   "display_name": "Python 3",
   "language": "python",
   "name": "python3"
  },
  "language_info": {
   "codemirror_mode": {
    "name": "ipython",
    "version": 3
   },
   "file_extension": ".py",
   "mimetype": "text/x-python",
   "name": "python",
   "nbconvert_exporter": "python",
   "pygments_lexer": "ipython3",
   "version": "3.6.8"
  }
 },
 "nbformat": 4,
 "nbformat_minor": 2
}
